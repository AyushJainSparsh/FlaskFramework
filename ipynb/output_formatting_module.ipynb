{
 "cells": [
  {
   "cell_type": "code",
   "execution_count": 2,
   "id": "6982389f-d126-4635-b63e-743e6eb16a2e",
   "metadata": {},
   "outputs": [],
   "source": [
    "import os\n",
    "from dotenv import load_dotenv\n",
    "import google.generativeai as genai\n",
    "import typing_extensions as typing"
   ]
  },
  {
   "cell_type": "code",
   "execution_count": 4,
   "id": "34b2fa63-ef3e-455e-82a7-44a67d5586a4",
   "metadata": {},
   "outputs": [
    {
     "data": {
      "text/plain": [
       "True"
      ]
     },
     "execution_count": 4,
     "metadata": {},
     "output_type": "execute_result"
    }
   ],
   "source": [
    "load_dotenv()"
   ]
  },
  {
   "cell_type": "code",
   "execution_count": 35,
   "id": "bf0acae1-f57e-4c13-801f-394ac062aec5",
   "metadata": {},
   "outputs": [],
   "source": [
    "class Module(typing.TypedDict):\n",
    "    header : str\n",
    "    module_inside_info : str\n",
    "    module : int"
   ]
  },
  {
   "cell_type": "code",
   "execution_count": 37,
   "id": "b6e7c174-44aa-4002-b997-50cf6b4205bf",
   "metadata": {},
   "outputs": [],
   "source": [
    "genai.configure(api_key=os.getenv(\"GEMINI_API_KEY\"))\n",
    "\n",
    "generation_config = {\n",
    "    \"temperature\": 1,\n",
    "    \"top_p\": 0.95,\n",
    "    \"top_k\": 40,\n",
    "    \"max_output_tokens\": 8192,\n",
    "    \"response_mime_type\": \"application/json\",\n",
    "    \"response_schema\" : list[Module]\n",
    "}\n",
    "model = genai.GenerativeModel(\n",
    "    model_name=\"gemini-1.5-pro\",\n",
    "    generation_config=generation_config,\n",
    ")"
   ]
  },
  {
   "cell_type": "code",
   "execution_count": 82,
   "id": "cf1d2117-8f59-447e-a28d-b895bd647a80",
   "metadata": {},
   "outputs": [],
   "source": [
    "def recommend_module(task):\n",
    "    chat_session = model.start_chat(\n",
    "        history = [{\n",
    "            \"role\" : \"user\" ,\n",
    "            \"parts\" : [{\n",
    "                \"text\" : '''Divide my task into modules from a very basic level to advance in such a way that user have no idea about it \n",
    "                so provide a detail regards every module also and make it easier for user .\n",
    "\n",
    "                In json format you have to arrange things as like,\n",
    "\n",
    "                header : the header which consists of the above part of starting a module.\n",
    "                module : contains the module number.\n",
    "                module_inside_info : contains everything inside a single module in detail as user have null knowledge regards the task.\n",
    "                '''\n",
    "            }]\n",
    "        }]\n",
    "    )\n",
    "    try:\n",
    "        response = chat_session.send_message(task)\n",
    "        return response.text\n",
    "    except Exception as e:\n",
    "        print(f\"Error : {e}\")\n",
    "        return \"Error: Unable to generate recommendation.\"        "
   ]
  },
  {
   "cell_type": "code",
   "execution_count": 84,
   "id": "88182103-2cc1-40e0-add4-375c3a9e5e5f",
   "metadata": {},
   "outputs": [],
   "source": [
    "output = recommend_module(\"I want to learn DSA.\")"
   ]
  },
  {
   "cell_type": "code",
   "execution_count": 85,
   "id": "680475b1-e676-4c78-89ab-babd402e5b4c",
   "metadata": {},
   "outputs": [],
   "source": [
    "json_output = json.loads(output)\n",
    "output = json_output"
   ]
  },
  {
   "cell_type": "code",
   "execution_count": 86,
   "id": "00d17acf-0f29-49e0-95cd-ac5ce90a0cac",
   "metadata": {},
   "outputs": [
    {
     "name": "stdout",
     "output_type": "stream",
     "text": [
      "Introduction to Data Structures and Algorithms\n",
      "==========================\n",
      "Module : 1\n",
      "Welcome to the world of DSA! This module will gently introduce you to the core concepts. We'll explore what data structures and algorithms are, why they matter, and how they work together.  Think of data structures as containers for organizing information, and algorithms as the recipes for processing that information efficiently.  No prior knowledge is assumed, so let's begin!\n",
      "---------------------------------------------------------------------------------------------------------------------------------\n",
      "Basic Data Structures: Arrays and Linked Lists\n",
      "==========================\n",
      "Module : 2\n",
      "Let's dive into two fundamental data structures: arrays and linked lists.  Imagine arrays as neatly organized boxes in a row, each holding a piece of data. Linked lists, on the other hand, are like a chain of interconnected boxes, where each box points to the next.  We'll cover their strengths, weaknesses, and common use cases. Don't worry about the technical details yet – we'll break it down step by step.\n",
      "---------------------------------------------------------------------------------------------------------------------------------\n",
      "Searching and Sorting Algorithms\n",
      "==========================\n",
      "Module : 3\n",
      "Now that you know how to store data, let's learn how to find and organize it!  This module introduces essential searching algorithms, like linear and binary search, that help you locate specific items within your data. We'll also cover sorting algorithms, such as bubble sort and insertion sort, to arrange your data in a desired order.  Practical examples and visualizations will make it easy to understand, even if you're a complete beginner.\n",
      "---------------------------------------------------------------------------------------------------------------------------------\n",
      "Advanced Data Structures: Trees and Graphs\n",
      "==========================\n",
      "Module : 4\n",
      "Ready to level up? This module explores more complex data structures: trees and graphs. Think of trees as hierarchical structures, like a family tree, and graphs as networks of interconnected nodes. We'll introduce different types of trees and graphs, their properties, and how they can be used to represent relationships between data. It might sound challenging, but we'll break it down into digestible chunks.\n",
      "---------------------------------------------------------------------------------------------------------------------------------\n",
      "Algorithm Design Techniques\n",
      "==========================\n",
      "Module : 5\n",
      "This module focuses on the art of designing efficient algorithms. We'll explore techniques like recursion, dynamic programming, and greedy algorithms. These techniques provide powerful tools to solve complex problems by breaking them down into smaller, manageable parts. Don't worry if these terms sound unfamiliar – we'll explain them in plain English with illustrative examples.\n",
      "---------------------------------------------------------------------------------------------------------------------------------\n",
      "Algorithm Analysis and Complexity\n",
      "==========================\n",
      "Module : 6\n",
      "How do you measure the efficiency of an algorithm?  This module introduces the concept of Big O notation, a way to analyze and compare algorithm performance based on factors like time and space complexity. We'll learn how to identify bottlenecks and optimize your code for better performance.  It's a crucial skill for any aspiring software developer.\n",
      "---------------------------------------------------------------------------------------------------------------------------------\n"
     ]
    }
   ],
   "source": [
    "for o in output:\n",
    "    print(o['header'])\n",
    "    print('==========================')\n",
    "    print(f\"Module : {o['module']}\")\n",
    "    print(o['module_inside_info'])\n",
    "    print('---------------------------------------------------------------------------------------------------------------------------------')"
   ]
  },
  {
   "cell_type": "code",
   "execution_count": null,
   "id": "daf05f84-272d-49e3-bc30-65eb96571379",
   "metadata": {},
   "outputs": [],
   "source": []
  }
 ],
 "metadata": {
  "kernelspec": {
   "display_name": "Python 3 (ipykernel)",
   "language": "python",
   "name": "python3"
  },
  "language_info": {
   "codemirror_mode": {
    "name": "ipython",
    "version": 3
   },
   "file_extension": ".py",
   "mimetype": "text/x-python",
   "name": "python",
   "nbconvert_exporter": "python",
   "pygments_lexer": "ipython3",
   "version": "3.12.4"
  }
 },
 "nbformat": 4,
 "nbformat_minor": 5
}
