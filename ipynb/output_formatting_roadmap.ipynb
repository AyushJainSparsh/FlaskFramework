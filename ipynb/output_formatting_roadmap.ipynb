{
 "cells": [
  {
   "cell_type": "code",
   "execution_count": 2,
   "id": "9655b270-6bee-4d77-901e-a80e71fb8d8c",
   "metadata": {},
   "outputs": [],
   "source": [
    "import os\n",
    "import google.generativeai as genai\n",
    "from dotenv import load_dotenv\n",
    "import typing_extensions as typing"
   ]
  },
  {
   "cell_type": "code",
   "execution_count": 3,
   "id": "46ad4dd5-43f1-493c-a05d-733754e25759",
   "metadata": {},
   "outputs": [],
   "source": [
    "class Roadmap(typing.TypedDict):\n",
    "    format : str\n",
    "    task : str\n",
    "    phase : int"
   ]
  },
  {
   "cell_type": "code",
   "execution_count": 4,
   "id": "ff875b4b-b983-4460-ad7d-b188c9578e48",
   "metadata": {},
   "outputs": [
    {
     "data": {
      "text/plain": [
       "True"
      ]
     },
     "execution_count": 4,
     "metadata": {},
     "output_type": "execute_result"
    }
   ],
   "source": [
    "load_dotenv()"
   ]
  },
  {
   "cell_type": "code",
   "execution_count": 8,
   "id": "729efaf3-27fd-4153-85d4-54ab16c5ff53",
   "metadata": {},
   "outputs": [],
   "source": [
    "genai.configure(api_key = os.getenv(\"GEMINI_API_KEY\")) "
   ]
  },
  {
   "cell_type": "code",
   "execution_count": 10,
   "id": "75b5111a-124f-4ae8-8d5f-d1c6b3f4d10e",
   "metadata": {},
   "outputs": [],
   "source": [
    "generation_config = {\n",
    "  \"temperature\": 1,\n",
    "  \"top_p\": 0.95,\n",
    "  \"top_k\": 40,\n",
    "  \"max_output_tokens\": 8192,\n",
    "  \"response_mime_type\": \"application/json\",\n",
    "  \"response_schema\" : list[Roadmap]\n",
    "  }\n",
    "\n",
    "model = genai.GenerativeModel(\n",
    "  model_name=\"gemini-1.5-pro\",\n",
    "  generation_config=generation_config,\n",
    ")"
   ]
  },
  {
   "cell_type": "code",
   "execution_count": 20,
   "id": "f70f6da3-361c-447a-8df6-a81c13ebd2f4",
   "metadata": {},
   "outputs": [],
   "source": [
    "def recommend_roadmap(task):\n",
    "    chat_session = model.start_chat(\n",
    "        history=[\n",
    "            {\n",
    "                \"role\": \"user\",  # Adjust to \"system\" or \"user\" based on your need\n",
    "                \"parts\": [\n",
    "                    {\"text\": '''Prepare a roadmap for the provided task on the daily, hourly, weekly or , monthly basis as per need by a task to complete it for basics to deep. \n",
    "                    its a strict order that roadmap is only in hourly, daily, weekly or monthly format as per needed by task and the task we have to accomplish in it.\n",
    "                    \n",
    "                    in json format you have to arrange things as per given:\n",
    "\n",
    "                    format : in which basis you set the timetable like weekly , hourly , daily or monthly basis.\n",
    "                    phase : day , week , hour or month number.\n",
    "                    task : the task you have to fulfill.\n",
    "\n",
    "                    Note : Provide output in only one format i.e. if output is in daily format it only be in daily format.\n",
    "                    '''\n",
    "                    }\n",
    "                ]\n",
    "            }\n",
    "        ]\n",
    "    )\n",
    "    try:\n",
    "        response = chat_session.send_message(task)\n",
    "        return response\n",
    "    except Exception as e:\n",
    "        print(f\"Error: {e}\")\n",
    "        return \"Error: Unable to generate recommendation.\""
   ]
  },
  {
   "cell_type": "code",
   "execution_count": 22,
   "id": "08d6b477-e688-42e0-ad60-0fc2ef1429e7",
   "metadata": {},
   "outputs": [],
   "source": [
    "output = recommend_roadmap(\"I want to learn Machine Learning.\")"
   ]
  },
  {
   "cell_type": "code",
   "execution_count": 23,
   "id": "2383afa7-c9c6-4165-9eee-901b946a4a4e",
   "metadata": {},
   "outputs": [
    {
     "data": {
      "text/plain": [
       "google.generativeai.types.generation_types.GenerateContentResponse"
      ]
     },
     "execution_count": 23,
     "metadata": {},
     "output_type": "execute_result"
    }
   ],
   "source": [
    "type(output)"
   ]
  },
  {
   "cell_type": "code",
   "execution_count": 24,
   "id": "bc56c317-0470-4d0b-93ad-98de51b9d0d9",
   "metadata": {},
   "outputs": [
    {
     "data": {
      "text/plain": [
       "str"
      ]
     },
     "execution_count": 24,
     "metadata": {},
     "output_type": "execute_result"
    }
   ],
   "source": [
    "type(output.text)\n",
    "output."
   ]
  },
  {
   "cell_type": "code",
   "execution_count": 195,
   "id": "1a6f62fc-71a8-47c6-9026-41e80ece2343",
   "metadata": {},
   "outputs": [
    {
     "data": {
      "text/plain": [
       "list"
      ]
     },
     "execution_count": 195,
     "metadata": {},
     "output_type": "execute_result"
    }
   ],
   "source": [
    "import json\n",
    "json_output = json.loads(output)\n",
    "type(json_output)"
   ]
  },
  {
   "cell_type": "code",
   "execution_count": 196,
   "id": "ff91c83d-7eb8-4299-9ba4-8550dfaee7e5",
   "metadata": {},
   "outputs": [
    {
     "data": {
      "text/plain": [
       "dict"
      ]
     },
     "execution_count": 196,
     "metadata": {},
     "output_type": "execute_result"
    }
   ],
   "source": [
    "output = json_output\n",
    "type(output[0])"
   ]
  },
  {
   "cell_type": "code",
   "execution_count": 197,
   "id": "4220f655-6be5-40ed-a39f-4e9011f945df",
   "metadata": {},
   "outputs": [
    {
     "name": "stdout",
     "output_type": "stream",
     "text": [
      "weekly\n",
      "==========================\n",
      "1\n",
      "Introduction to Machine Learning and its applications\n",
      "---------------------------------------------------------------------------------------------------------------------------------\n",
      "weekly\n",
      "==========================\n",
      "1\n",
      "Setting up the environment (Python, libraries)\n",
      "---------------------------------------------------------------------------------------------------------------------------------\n",
      "weekly\n",
      "==========================\n",
      "2\n",
      "Descriptive Statistics and Data Exploration\n",
      "---------------------------------------------------------------------------------------------------------------------------------\n",
      "weekly\n",
      "==========================\n",
      "2\n",
      "Data Preprocessing techniques\n",
      "---------------------------------------------------------------------------------------------------------------------------------\n",
      "weekly\n",
      "==========================\n",
      "3\n",
      "Introduction to Supervised Learning - Regression\n",
      "---------------------------------------------------------------------------------------------------------------------------------\n",
      "weekly\n",
      "==========================\n",
      "3\n",
      "Linear Regression, Multiple Linear Regression\n",
      "---------------------------------------------------------------------------------------------------------------------------------\n",
      "weekly\n",
      "==========================\n",
      "4\n",
      "Polynomial Regression, Regularization\n",
      "---------------------------------------------------------------------------------------------------------------------------------\n",
      "weekly\n",
      "==========================\n",
      "4\n",
      "Model evaluation metrics for Regression\n",
      "---------------------------------------------------------------------------------------------------------------------------------\n",
      "weekly\n",
      "==========================\n",
      "5\n",
      "Introduction to Supervised Learning - Classification\n",
      "---------------------------------------------------------------------------------------------------------------------------------\n",
      "weekly\n",
      "==========================\n",
      "5\n",
      "Logistic Regression, K-Nearest Neighbors\n",
      "---------------------------------------------------------------------------------------------------------------------------------\n",
      "weekly\n",
      "==========================\n",
      "6\n",
      "Support Vector Machines, Decision Trees\n",
      "---------------------------------------------------------------------------------------------------------------------------------\n",
      "weekly\n",
      "==========================\n",
      "6\n",
      "Model evaluation metrics for Classification\n",
      "---------------------------------------------------------------------------------------------------------------------------------\n",
      "weekly\n",
      "==========================\n",
      "7\n",
      "Ensemble methods: Bagging, Boosting\n",
      "---------------------------------------------------------------------------------------------------------------------------------\n",
      "weekly\n",
      "==========================\n",
      "7\n",
      "Random Forests, Gradient Boosting\n",
      "---------------------------------------------------------------------------------------------------------------------------------\n",
      "weekly\n",
      "==========================\n",
      "8\n",
      "Introduction to Unsupervised Learning\n",
      "---------------------------------------------------------------------------------------------------------------------------------\n",
      "weekly\n",
      "==========================\n",
      "8\n",
      "Clustering: K-Means, Hierarchical Clustering\n",
      "---------------------------------------------------------------------------------------------------------------------------------\n",
      "weekly\n",
      "==========================\n",
      "9\n",
      "Dimensionality Reduction: PCA\n",
      "---------------------------------------------------------------------------------------------------------------------------------\n",
      "weekly\n",
      "==========================\n",
      "9\n",
      "Model evaluation metrics for clustering\n",
      "---------------------------------------------------------------------------------------------------------------------------------\n",
      "weekly\n",
      "==========================\n",
      "10\n",
      "Introduction to Deep Learning\n",
      "---------------------------------------------------------------------------------------------------------------------------------\n",
      "weekly\n",
      "==========================\n",
      "10\n",
      "Neural Networks basics\n",
      "---------------------------------------------------------------------------------------------------------------------------------\n",
      "weekly\n",
      "==========================\n",
      "11\n",
      "Convolutional Neural Networks\n",
      "---------------------------------------------------------------------------------------------------------------------------------\n",
      "weekly\n",
      "==========================\n",
      "11\n",
      "Recurrent Neural Networks\n",
      "---------------------------------------------------------------------------------------------------------------------------------\n",
      "weekly\n",
      "==========================\n",
      "12\n",
      "Working on a Machine Learning project\n",
      "---------------------------------------------------------------------------------------------------------------------------------\n",
      "weekly\n",
      "==========================\n",
      "12\n",
      "Project deployment and presentation\n",
      "---------------------------------------------------------------------------------------------------------------------------------\n"
     ]
    }
   ],
   "source": [
    "for o in output:\n",
    "    print(o['format'])\n",
    "    print('==========================')\n",
    "    print(o['phase'])\n",
    "    print(o['task'])\n",
    "    print('---------------------------------------------------------------------------------------------------------------------------------')"
   ]
  },
  {
   "cell_type": "code",
   "execution_count": null,
   "id": "45fc0c9f-f0a4-4780-baf4-3896a94fca50",
   "metadata": {},
   "outputs": [],
   "source": []
  }
 ],
 "metadata": {
  "kernelspec": {
   "display_name": "Python 3 (ipykernel)",
   "language": "python",
   "name": "python3"
  },
  "language_info": {
   "codemirror_mode": {
    "name": "ipython",
    "version": 3
   },
   "file_extension": ".py",
   "mimetype": "text/x-python",
   "name": "python",
   "nbconvert_exporter": "python",
   "pygments_lexer": "ipython3",
   "version": "3.12.4"
  }
 },
 "nbformat": 4,
 "nbformat_minor": 5
}
